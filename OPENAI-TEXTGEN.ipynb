{
 "cells": [
  {
   "cell_type": "markdown",
   "id": "1407dee8-161a-4e84-9a12-fb017cf4f29d",
   "metadata": {},
   "source": [
    "<div style=\"\n",
    "    display: block;\n",
    "    padding: 12px 20px;\n",
    "    background-color: #1A73E8;\n",
    "    color: white;\n",
    "    border-radius: 30px;\n",
    "    font-family: 'Helvetica Neue', Arial, sans-serif;\n",
    "    font-size: 16px;\n",
    "    font-weight: 600;\n",
    "    margin: 15px auto;\n",
    "    width: fit-content;\n",
    "    box-shadow: 0 4px 8px rgba(0, 0, 0, 0.1);\n",
    "    text-align: center;\n",
    "    letter-spacing: 0.5px;\n",
    "\">\n",
    "    <strong>OPEN AI - TEXT GENERATION</strong>\n",
    "</div>\n",
    "\n",
    "<div style=\"\n",
    "    display: block;\n",
    "    padding: 12px 20px;\n",
    "    background-color: #66BB6A;\n",
    "    color: white;\n",
    "    border-radius: 30px;\n",
    "    font-family: 'Helvetica Neue', Arial, sans-serif;\n",
    "    font-size: 16px;\n",
    "    font-weight: 600;\n",
    "    margin: 15px auto;\n",
    "    width: fit-content;\n",
    "    box-shadow: 0 4px 8px rgba(0, 0, 0, 0.1);\n",
    "    text-align: center;\n",
    "    letter-spacing: 0.5px;\n",
    "\">\n",
    "    <strong>Simon-Pierre Boucher</strong>\n",
    "</div>\n",
    "\n",
    "<div style=\"\n",
    "    display: block;\n",
    "    padding: 12px 20px;\n",
    "    background-color: #FFA726;\n",
    "    color: white;\n",
    "    border-radius: 30px;\n",
    "    font-family: 'Helvetica Neue', Arial, sans-serif;\n",
    "    font-size: 16px;\n",
    "    font-weight: 600;\n",
    "    margin: 15px auto;\n",
    "    width: fit-content;\n",
    "    box-shadow: 0 4px 8px rgba(0, 0, 0, 0.1);\n",
    "    text-align: center;\n",
    "    letter-spacing: 0.5px;\n",
    "\">\n",
    "    <strong>2024-09-14</strong>\n",
    "</div>\n"
   ]
  },
  {
   "cell_type": "markdown",
   "id": "ee3204ba-46b9-4c6e-a5ca-f5719fa25243",
   "metadata": {},
   "source": [
    "This Python script facilitates interaction with the OpenAI API to generate and format responses using a chat model like `gpt-3.5-turbo`. Below is a breakdown of the script's functionality:\n",
    "\n",
    "1. **Environment Setup**:\n",
    "   - The script loads environment variables (such as the OpenAI API key) from a `.env` file using `dotenv`.\n",
    "   - `os.getenv(\"OPENAI_API_KEY\")` retrieves the API key from the environment.\n",
    "\n",
    "2. **Function `generate_openai_text()`**:\n",
    "   - This function sends a request to OpenAI's API to generate a response based on specified parameters:\n",
    "     - `api_key`: The OpenAI API key.\n",
    "     - `model`: The model to use for generation (e.g., `gpt-3.5-turbo`).\n",
    "     - `messages`: A list representing a chat conversation where each message has a role (e.g., `user`).\n",
    "     - Other parameters (temperature, max_tokens, etc.) control the behavior of the model.\n",
    "   - The function sends the API request, checks for errors, and returns the response in JSON format.\n",
    "\n",
    "3. **Function `format_openai_response()`**:\n",
    "   - This function extracts and formats the assistant's response from the API output, displaying only the generated text.\n",
    "   - If the response contains valid data, it formats it for display; otherwise, it returns an error message.\n",
    "\n",
    "4. **Text Generation and Output**:\n",
    "   - The script creates a conversation where the user asks about \"quantum entanglement\" and its implications for causality and information transfer.\n",
    "   - The `generate_openai_text()` function is called with this query, and the output is formatted and printed using `format_openai_response()`.\n",
    "\n",
    "5. **Switching Models**:\n",
    "   - The script demonstrates how to switch between models (e.g., from `gpt-3.5-turbo` to `gpt-4`) to generate different responses.\n",
    "\n",
    "Each generated response addresses the user's question about quantum entanglement and presents the answer with varying levels of detail based on the selected model."
   ]
  },
  {
   "cell_type": "code",
   "execution_count": 1,
   "id": "622a5ae7-cf0c-456b-aa68-f35b1ea376f1",
   "metadata": {},
   "outputs": [
    {
     "name": "stderr",
     "output_type": "stream",
     "text": [
      "/Users/simon-pierreboucher/Desktop/notebook/venv/lib/python3.9/site-packages/urllib3/__init__.py:35: NotOpenSSLWarning: urllib3 v2 only supports OpenSSL 1.1.1+, currently the 'ssl' module is compiled with 'LibreSSL 2.8.3'. See: https://github.com/urllib3/urllib3/issues/3020\n",
      "  warnings.warn(\n"
     ]
    }
   ],
   "source": [
    "import os\n",
    "import requests\n",
    "from dotenv import load_dotenv\n",
    "from IPython.display import display, HTML\n",
    "import re\n",
    "# Charger les variables d'environnement depuis le fichier .env\n",
    "load_dotenv()\n",
    "# Obtenir la clé API depuis les variables d'environnement\n",
    "api_key = os.getenv(\"OPENAI_API_KEY\")\n"
   ]
  },
  {
   "cell_type": "code",
   "execution_count": 2,
   "id": "97d99a12-80dc-48a9-9d8b-2501f32edb32",
   "metadata": {},
   "outputs": [],
   "source": [
    "import requests\n",
    "def generate_openai_text(api_key, model, messages, temperature=1.0, max_tokens=2000, top_p=1.0,\n",
    "frequency_penalty=0.0, presence_penalty=0.0):\n",
    "    \"\"\"\n",
    "    Generate text using OpenAI's API.\n",
    "    Parameters:\n",
    "    - api_key (str): The API key for OpenAI.\n",
    "    - model (str): The model to use for text generation.\n",
    "    - messages (list): A list of messages to pass to the API in a conversation format.\n",
    "    - temperature (float): Controls randomness in the output (0-1).\n",
    "    - max_tokens (int): The maximum number of tokens to generate in the completion.\n",
    "    - top_p (float): Controls the diversity via nucleus sampling (0-1).\n",
    "    - frequency_penalty (float): Controls the repetition of words (0-1).\n",
    "    - presence_penalty (float): Controls the introduction of new topics (0-1).\n",
    "    Returns:\n",
    "    - response (dict): The API response as a dictionary.\n",
    "    \"\"\"\n",
    "    url = \"https://api.openai.com/v1/chat/completions\"\n",
    "    headers = {\n",
    "        \"Content-Type\": \"application/json\",\n",
    "        \"Authorization\": f\"Bearer {api_key}\"\n",
    "    }\n",
    "    data = {\n",
    "        \"model\": model,\n",
    "        \"messages\": messages,\n",
    "        \"temperature\": temperature,\n",
    "        \"max_tokens\": max_tokens,\n",
    "        \"top_p\": top_p,\n",
    "        \"frequency_penalty\": frequency_penalty,\n",
    "        \"presence_penalty\": presence_penalty\n",
    "}\n",
    "    try:\n",
    "        response = requests.post(url, headers=headers, json=data)\n",
    "        response.raise_for_status()\n",
    "        return response.json()\n",
    "    except requests.exceptions.RequestException as e:\n",
    "        print(f\"An error occurred: {e}\")\n",
    "        return None"
   ]
  },
  {
   "cell_type": "code",
   "execution_count": 3,
   "id": "09aed188-76b4-4b0b-9caa-4988f2940e1f",
   "metadata": {},
   "outputs": [],
   "source": [
    "def format_openai_response(response):\n",
    "    \"\"\"\n",
    "    Formats the response from OpenAI API to display only the assistant's message.\n",
    "    Parameters:\n",
    "    - response (dict): The API response as a dictionary.\n",
    "    Returns:\n",
    "    - formatted_text (str): A formatted string with Markdown for the assistant's message.\n",
    "    \"\"\"\n",
    "    if response and \"choices\" in response:\n",
    "        assistant_message = response[\"choices\"][0][\"message\"][\"content\"]\n",
    "        formatted_text = f\"**Assistant:**\\n\\n{assistant_message}\\n\"\n",
    "        return formatted_text\n",
    "    else:\n",
    "        return \"No valid response received.\""
   ]
  },
  {
   "cell_type": "code",
   "execution_count": 4,
   "id": "8803c608-e003-4417-8eb9-d7fdaa8920a9",
   "metadata": {},
   "outputs": [
    {
     "name": "stdout",
     "output_type": "stream",
     "text": [
      "**Assistant:**\n",
      "\n",
      "Quantum entanglement is a phenomenon in quantum mechanics where two or more particles become correlated in such a way that the state of one particle is dependent on the state of another, regardless of the distance between them. This means that measuring the state of one particle instantaneously determines the state of the other, even if they are separated by vast distances.\n",
      "\n",
      "This concept challenges classical notions of locality and realism because it implies that particles can be connected in a way that transcends traditional ideas of space and time. In classical physics, information and interactions are limited by the speed of light, meaning that distant objects cannot affect each other instantaneously. However, quantum entanglement suggests that particles can be connected in a way that allows for instantaneous communication, regardless of the distance between them.\n",
      "\n",
      "The implications of entanglement for our understanding of causality and information transfer are profound. Entangled particles seem to be able to communicate with each other faster than the speed of light, which challenges our understanding of how information can be transferred and how causality operates in the universe. This has led to debates about whether entanglement violates the principles of causality and locality, and has sparked discussions about the nature of reality and the fundamental laws of physics.\n",
      "\n",
      "Overall, quantum entanglement challenges our classical intuitions about how the universe works and forces us to rethink our understanding of space, time, and the nature of reality. It opens up new possibilities for communication and information transfer that may have far-reaching implications for technology and our understanding of the fundamental laws of the universe.\n",
      "\n"
     ]
    }
   ],
   "source": [
    "model = \"gpt-3.5-turbo\"  \n",
    "messages = [\n",
    "    {\"role\": \"user\", \"content\": \"Explain the concept of quantum entanglement and how it challenges classical notions of locality and realism. What are the implications of entanglement for our understanding of causality and information transfer?\"}\n",
    "]\n",
    "response = generate_openai_text(api_key, model, messages, temperature=0.7, max_tokens=2000, top_p=0.9)\n",
    "formatted_response = format_openai_response(response)\n",
    "print(formatted_response)"
   ]
  },
  {
   "cell_type": "code",
   "execution_count": 5,
   "id": "bad011aa-0045-4535-860f-562dbf53b469",
   "metadata": {},
   "outputs": [
    {
     "name": "stdout",
     "output_type": "stream",
     "text": [
      "**Assistant:**\n",
      "\n",
      "Quantum entanglement is a physical phenomenon that occurs when pairs or groups of particles are generated, interact, or share spatial proximity in ways such that the quantum state of each particle cannot be described independently of the state of the others, even when the particles are separated by large distances. The entangled particles remain connected so that actions performed on one particle affect the other, no matter the distance between them. This relationship holds even when the entangled particles are separated by large distances—a phenomenon that Albert Einstein famously referred to as \"spooky action at a distance.\"\n",
      "\n",
      "### Challenging Classical Notions of Locality and Realism\n",
      "\n",
      "**Locality:** In classical physics, objects are influenced directly only by their immediate surroundings—a principle known as locality. Quantum entanglement challenges this notion because it allows for the instantaneous correlation of physical properties (like spin, polarization, etc.) between distant particles. This seems to suggest that information or influence can travel faster than light, apparently violating the principle of locality as upheld by the theory of relativity.\n",
      "\n",
      "**Realism:** Classical realism is a philosophical concept that states that the properties of objects exist independently of whether we observe them or not. In quantum mechanics, however, the properties of entangled particles are not defined prior to measurement. Instead, their characteristics seem to be determined at the moment of measurement, suggesting that these properties do not exist prior to this point. This challenges the classical idea of realism.\n",
      "\n",
      "### Implications for Causality and Information Transfer\n",
      "\n",
      "**Causality:** In classical physics, causality implies that an effect cannot occur before its cause, and changes in one object are brought about by interactions with another object through forces or fields that do not act instantaneously. However, in quantum entanglement, the change in state of one particle instantaneously affects its entangled partner, regardless of the distance. This doesn't necessarily violate causality as understood in relativity (since no information can be transmitted faster than light using entanglement alone), but it does suggest a need to rethink causal relationships in quantum contexts.\n",
      "\n",
      "**Information Transfer:** Quantum entanglement is pivotal in the field of quantum information science, including technologies such as quantum computing, quantum cryptography, and quantum teleportation. While entanglement does not allow for faster-than-light communication (as the outcomes are random until measured), it does permit the transfer of the quantum state of a particle to another particle, which is the basis of quantum teleportation. This capability could revolutionize computing and secure communications.\n",
      "\n",
      "In summary, quantum entanglement challenges traditional concepts of how the world works at a fundamental level. It necessitates a reevaluation of the classical ideas of locality and realism, and introduces new paradigms in understanding causality and the transfer of information in quantum systems. This has profound implications not just for physics, but for technology, philosophy, and our overall understanding of reality.\n",
      "\n"
     ]
    }
   ],
   "source": [
    "model = \"gpt-4-turbo\"  \n",
    "messages = [\n",
    "    {\"role\": \"user\", \"content\": \"Explain the concept of quantum entanglement and how it challenges classical notions of locality and realism. What are the implications of entanglement for our understanding of causality and information transfer?\"}\n",
    "]\n",
    "response = generate_openai_text(api_key, model, messages, temperature=0.7, max_tokens=2000, top_p=0.9)\n",
    "formatted_response = format_openai_response(response)\n",
    "print(formatted_response)"
   ]
  },
  {
   "cell_type": "code",
   "execution_count": 6,
   "id": "79ebc94a-9b7e-42bc-9019-41f5f7c92326",
   "metadata": {},
   "outputs": [
    {
     "name": "stdout",
     "output_type": "stream",
     "text": [
      "**Assistant:**\n",
      "\n",
      "Quantum entanglement is a physical phenomenon that occurs when a pair or group of particles interact in ways such that the quantum state of each particle cannot be described independently of the state of the others, even when the particles are separated by a large distance. This means that the state of one particle is intrinsically linked to the state of the other, no matter how far apart they are.\n",
      "\n",
      "This challenges the classical notions of locality and realism. Locality is the idea that an object is only directly influenced by its immediate surroundings. However, with quantum entanglement, a change in one particle can instantaneously affect the other entangled particle, regardless of the distance between them. This seems to violate the principle of locality.\n",
      "\n",
      "Realism, in the context of quantum mechanics, is the idea that objects have definite properties whether or not we observe them. However, in the quantum world, the act of measurement changes the state of the particle being measured, contradicting the principle of realism. The state of an entangled particle isn't fixed until it is measured, and this measurement affects the state of its entangled partner instantaneously.\n",
      "\n",
      "The implications of quantum entanglement for our understanding of causality and information transfer are profound. It seems that information can be transferred instantaneously between entangled particles, potentially faster than the speed of light. This has led some to suggest that quantum entanglement could be used for \"quantum teleportation\" or \"quantum communication\".\n",
      "\n",
      "However, it's important to note that this doesn't violate the traditional understanding of causality, as the information transfer requires both entangled particles to be measured, and this measurement can't be controlled. Therefore, while the state of the entangled particles is correlated, it's not possible to use this correlation to send information in a controlled manner.\n",
      "\n",
      "In conclusion, quantum entanglement is a fascinating phenomenon that challenges our classical understanding of the world, and while it has potential implications for information transfer, these are not yet fully understood or realized.\n",
      "\n"
     ]
    }
   ],
   "source": [
    "model = \"gpt-4\"  \n",
    "messages = [\n",
    "    {\"role\": \"user\", \"content\": \"Explain the concept of quantum entanglement and how it challenges classical notions of locality and realism. What are the implications of entanglement for our understanding of causality and information transfer?\"}\n",
    "]\n",
    "response = generate_openai_text(api_key, model, messages, temperature=0.7, max_tokens=2000, top_p=0.9)\n",
    "formatted_response = format_openai_response(response)\n",
    "print(formatted_response)"
   ]
  },
  {
   "cell_type": "code",
   "execution_count": 7,
   "id": "c670c224-2ad7-4d29-a7d4-b03ee6dc56f5",
   "metadata": {},
   "outputs": [
    {
     "name": "stdout",
     "output_type": "stream",
     "text": [
      "**Assistant:**\n",
      "\n",
      "Quantum entanglement is a fundamental phenomenon in quantum mechanics where the quantum states of two or more particles become correlated in such a way that the state of one particle instantly determines the state of the other(s), regardless of the distance separating them. This occurs even if the particles are light-years apart. The concept of entanglement was first introduced by Albert Einstein, Boris Podolsky, and Nathan Rosen in 1935 in a paper often referred to as the EPR paradox, and was later formalized by Erwin Schrödinger.\n",
      "\n",
      "### Challenges to Classical Notions\n",
      "\n",
      "1. **Locality**: In classical physics, locality means that an object is only directly influenced by its immediate surroundings. Information or influence cannot travel faster than the speed of light. However, entanglement implies that a measurement on one particle can instantaneously affect the state of another entangled particle, seemingly violating this principle.\n",
      "\n",
      "2. **Realism**: Realism is the notion that physical properties exist independently of measurement. Quantum mechanics, however, suggests that certain properties of particles do not have definite values until they are measured. Entanglement further complicates this because the measurement of one particle instantaneously determines the state of another, implying that these properties are not just unknown prior to measurement, but actually indeterminate.\n",
      "\n",
      "### Implications for Causality and Information Transfer\n",
      "\n",
      "1. **Causality**: Entanglement challenges our classical understanding of cause and effect. If two entangled particles affect each other instantaneously over any distance, it suggests a form of correlation that doesn't fit within the traditional cause-effect framework constrained by the speed of light. This has led to various interpretations and debates in the foundations of quantum mechanics, such as whether hidden variables or other mechanisms might be at play.\n",
      "\n",
      "2. **Information Transfer**: Despite the instantaneous correlations, entanglement does not allow for faster-than-light communication. This is because the measurement outcomes are random, and while they are correlated, they cannot be controlled to transmit information. When one particle is measured, the state of the other is known, but this does not allow for the transmission of a usable signal. This aligns with the no-signaling theorem in quantum mechanics, which ensures that entanglement does not violate causality in a way that would enable faster-than-light communication.\n",
      "\n",
      "### Broader Implications\n",
      "\n",
      "1. **Quantum Computing**: Entanglement is a resource for quantum computing and quantum information theory. It enables quantum algorithms that can solve certain problems exponentially faster than classical algorithms, such as Shor's algorithm for factoring large numbers.\n",
      "\n",
      "2. **Quantum Cryptography**: Entanglement is also used in quantum cryptography protocols, such as quantum key distribution (QKD), which allows for theoretically secure communication channels. The security arises from the fact that any attempt to eavesdrop on the entangled particles will disturb their state, revealing the presence of the eavesdropper.\n",
      "\n",
      "3. **Foundations of Physics**: Entanglement has profound implications for our understanding of the nature of reality and has led to various interpretations of quantum mechanics, such as the Copenhagen interpretation, many-worlds interpretation, and pilot-wave theory. Experiments such as Bell tests have shown that no local hidden variable theory can reproduce the predictions of quantum mechanics, thus supporting the non-local nature of quantum entanglement.\n",
      "\n",
      "In summary, quantum entanglement challenges classical notions of locality and realism, suggesting that the universe is interconnected in ways that defy our everyday experiences. While it does not allow for faster-than-light communication, it has significant implications for technology and our philosophical understanding of the nature of reality.\n",
      "\n"
     ]
    }
   ],
   "source": [
    "model = \"gpt-4o\"  \n",
    "messages = [\n",
    "    {\"role\": \"user\", \"content\": \"Explain the concept of quantum entanglement and how it challenges classical notions of locality and realism. What are the implications of entanglement for our understanding of causality and information transfer?\"}\n",
    "]\n",
    "response = generate_openai_text(api_key, model, messages, temperature=0.7, max_tokens=2000, top_p=0.9)\n",
    "formatted_response = format_openai_response(response)\n",
    "print(formatted_response)"
   ]
  },
  {
   "cell_type": "code",
   "execution_count": 8,
   "id": "64bd3a58-a368-4fff-950f-b7a548b2f3b1",
   "metadata": {},
   "outputs": [
    {
     "name": "stdout",
     "output_type": "stream",
     "text": [
      "**Assistant:**\n",
      "\n",
      "Quantum entanglement is a phenomenon in quantum mechanics where two or more particles become correlated in such a way that the quantum state of one particle cannot be described independently of the state of the other(s), even when the particles are separated by large distances. This means that measuring a property (like spin or polarization) of one particle instantaneously determines the corresponding property of the other particle, regardless of the distance separating them.\n",
      "\n",
      "### Challenging Classical Notions of Locality and Realism\n",
      "\n",
      "**Locality** is the principle that an object is only directly influenced by its immediate surroundings and that any interaction or influence cannot propagate faster than the speed of light. **Realism**, on the other hand, is the belief that physical properties exist independently of observation; that is, the properties of particles have definite values before measurement.\n",
      "\n",
      "Quantum entanglement challenges these notions in several ways:\n",
      "\n",
      "1. **Nonlocality**: The instantaneous correlation between entangled particles implies that a change in one particle's state affects the other particle's state instantaneously, regardless of the distance separating them. This behavior seems to violate the principle of locality, as it suggests that information can be transmitted faster than light, although no usable information is actually transferred in this process.\n",
      "\n",
      "2. **Indeterminacy**: The outcomes of measurements on entangled particles are inherently probabilistic. Before measurement, the properties of the particles do not have definite values (contrary to realism). Instead, they exist in a superposition of states, and only upon measurement do they \"collapse\" into a definite state.\n",
      "\n",
      "These aspects of entanglement have led to significant philosophical debates about the nature of reality, prompting interpretations of quantum mechanics that either retain or abandon classical notions of locality and realism. For example, interpretations such as the Copenhagen interpretation accept the probabilistic nature of quantum states, while others like the many-worlds interpretation propose that all possible outcomes occur in branching universes.\n",
      "\n",
      "### Implications for Causality and Information Transfer\n",
      "\n",
      "1. **Causality**: Quantum entanglement suggests that causality is not as straightforward as in classical physics. While entangled particles exhibit correlations that appear to be instantaneous, they do not allow for faster-than-light communication. This means that while one can measure an entangled particle and affect the state of its partner, the outcome cannot be controlled or used to transmit information. This preserves causality in the sense that events in one location do not influence another in a manner that allows for superluminal communication.\n",
      "\n",
      "2. **Information Transfer**: Entanglement does not facilitate the transfer of information in the classical sense. Although the measurement results are correlated, the outcome of each measurement is fundamentally random. Therefore, entangled particles cannot be used to send information instantaneously; one cannot control the result of a measurement to convey a message. This non-classical relationship raises questions about the nature of information itself in quantum systems.\n",
      "\n",
      "### Conclusion\n",
      "\n",
      "In summary, quantum entanglement presents profound challenges to classical concepts of locality and realism, leading to a reevaluation of fundamental principles in physics. It suggests a nonlocal interconnectedness that defies classical intuitions and raises questions about causality and the nature of information transfer. These implications are not merely philosophical; they also have practical applications in emerging technologies like quantum computing and quantum cryptography, which leverage the unique properties of entangled states.\n",
      "\n"
     ]
    }
   ],
   "source": [
    "model = \"gpt-4o-mini\"  \n",
    "messages = [\n",
    "    {\"role\": \"user\", \"content\": \"Explain the concept of quantum entanglement and how it challenges classical notions of locality and realism. What are the implications of entanglement for our understanding of causality and information transfer?\"}\n",
    "]\n",
    "response = generate_openai_text(api_key, model, messages, temperature=0.7, max_tokens=2000, top_p=0.9)\n",
    "formatted_response = format_openai_response(response)\n",
    "print(formatted_response)"
   ]
  }
 ],
 "metadata": {
  "kernelspec": {
   "display_name": "Python 3 (ipykernel)",
   "language": "python",
   "name": "python3"
  },
  "language_info": {
   "codemirror_mode": {
    "name": "ipython",
    "version": 3
   },
   "file_extension": ".py",
   "mimetype": "text/x-python",
   "name": "python",
   "nbconvert_exporter": "python",
   "pygments_lexer": "ipython3",
   "version": "3.9.6"
  }
 },
 "nbformat": 4,
 "nbformat_minor": 5
}
